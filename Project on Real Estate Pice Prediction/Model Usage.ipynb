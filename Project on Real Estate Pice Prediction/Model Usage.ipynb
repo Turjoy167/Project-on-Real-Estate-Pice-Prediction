{
 "cells": [
  {
   "cell_type": "code",
   "execution_count": 10,
   "id": "cf94afa2-4819-4519-b0e7-4dec538d770f",
   "metadata": {},
   "outputs": [
    {
     "data": {
      "text/plain": [
       "array([42.631])"
      ]
     },
     "execution_count": 10,
     "metadata": {},
     "output_type": "execute_result"
    }
   ],
   "source": [
    "from joblib import dump, load\n",
    "import numpy as np\n",
    "model = load('Dragon.joblib') \n",
    "features = np.array([[-5.43942006, 7.12628155, -1.6165014, -0.67288841, -1.42262747,\n",
    "       9.44443979304, -9.31238772,  7.61111401, -6.0016879 , -0.5778192 ,\n",
    "       -0.97491834,  15.41164221, -6.86091034]])\n",
    "model.predict(features)"
   ]
  },
  {
   "cell_type": "code",
   "execution_count": null,
   "id": "b932add3-fd7b-4dfa-976d-94f16af31e0b",
   "metadata": {},
   "outputs": [],
   "source": []
  }
 ],
 "metadata": {
  "kernelspec": {
   "display_name": "Python 3 (ipykernel)",
   "language": "python",
   "name": "python3"
  },
  "language_info": {
   "codemirror_mode": {
    "name": "ipython",
    "version": 3
   },
   "file_extension": ".py",
   "mimetype": "text/x-python",
   "name": "python",
   "nbconvert_exporter": "python",
   "pygments_lexer": "ipython3",
   "version": "3.11.0"
  }
 },
 "nbformat": 4,
 "nbformat_minor": 5
}
